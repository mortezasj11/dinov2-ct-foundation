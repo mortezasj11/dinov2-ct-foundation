{
 "cells": [
  {
   "cell_type": "code",
   "execution_count": 1,
   "id": "135254d8-2c48-4c61-8683-899c6325cf80",
   "metadata": {},
   "outputs": [],
   "source": [
    "import torch\n",
    "pretrained_weights = '/rsrch1/ip/msalehjahromi/codes/dinov2-main/output_dir/eval/training_124999/teacher_checkpoint.pth'\n",
    "state_dict = torch.load(pretrained_weights, map_location=\"cpu\")['teacher']\n"
   ]
  },
  {
   "cell_type": "code",
   "execution_count": 2,
   "id": "2ae5717a-ffa7-443f-9a33-c67a17ab47a3",
   "metadata": {},
   "outputs": [],
   "source": [
    "state_dict = {key.replace(\"backbone.\", \"\"): value for key, value in state_dict.items() if 'backbone' in key}\n"
   ]
  },
  {
   "cell_type": "code",
   "execution_count": 6,
   "id": "3dcdeca3-94cc-4684-bb74-07ffb4336cca",
   "metadata": {},
   "outputs": [],
   "source": [
    "#state_dict.keys()"
   ]
  },
  {
   "cell_type": "code",
   "execution_count": 9,
   "id": "afcb6593-1a3a-4f64-8a65-1977820df406",
   "metadata": {},
   "outputs": [
    {
     "ename": "ModuleNotFoundError",
     "evalue": "No module named 'dinov2'",
     "output_type": "error",
     "traceback": [
      "\u001b[0;31m---------------------------------------------------------------------------\u001b[0m",
      "\u001b[0;31mModuleNotFoundError\u001b[0m                       Traceback (most recent call last)",
      "Cell \u001b[0;32mIn[9], line 1\u001b[0m\n\u001b[0;32m----> 1\u001b[0m \u001b[38;5;28;01mfrom\u001b[39;00m \u001b[38;5;21;01mmodels\u001b[39;00m \u001b[38;5;28;01mimport\u001b[39;00m vits\n\u001b[1;32m      2\u001b[0m model \u001b[38;5;241m=\u001b[39m vits\u001b[38;5;241m.\u001b[39mvit_small(patch_size\u001b[38;5;241m=\u001b[39m\u001b[38;5;241m16\u001b[39m)\n\u001b[1;32m      3\u001b[0m model\u001b[38;5;241m.\u001b[39mload_state_dict(state_dict, strict\u001b[38;5;241m=\u001b[39m\u001b[38;5;28;01mFalse\u001b[39;00m)  \u001b[38;5;66;03m# Use strict=False to handle any mismatched keys.\u001b[39;00m\n",
      "File \u001b[0;32m/rsrch1/ip/msalehjahromi/codes/dinov2-main/dinov2/models/__init__.py:8\u001b[0m\n\u001b[1;32m      1\u001b[0m \u001b[38;5;66;03m# Copyright (c) Meta Platforms, Inc. and affiliates.\u001b[39;00m\n\u001b[1;32m      2\u001b[0m \u001b[38;5;66;03m#\u001b[39;00m\n\u001b[1;32m      3\u001b[0m \u001b[38;5;66;03m# This source code is licensed under the Apache License, Version 2.0\u001b[39;00m\n\u001b[1;32m      4\u001b[0m \u001b[38;5;66;03m# found in the LICENSE file in the root directory of this source tree.\u001b[39;00m\n\u001b[1;32m      6\u001b[0m \u001b[38;5;28;01mimport\u001b[39;00m \u001b[38;5;21;01mlogging\u001b[39;00m\n\u001b[0;32m----> 8\u001b[0m \u001b[38;5;28;01mfrom\u001b[39;00m \u001b[38;5;21;01m.\u001b[39;00m \u001b[38;5;28;01mimport\u001b[39;00m vision_transformer \u001b[38;5;28;01mas\u001b[39;00m vits\n\u001b[1;32m     11\u001b[0m logger \u001b[38;5;241m=\u001b[39m logging\u001b[38;5;241m.\u001b[39mgetLogger(\u001b[38;5;124m\"\u001b[39m\u001b[38;5;124mdinov2\u001b[39m\u001b[38;5;124m\"\u001b[39m)\n\u001b[1;32m     14\u001b[0m \u001b[38;5;28;01mdef\u001b[39;00m \u001b[38;5;21mbuild_model\u001b[39m(args, only_teacher\u001b[38;5;241m=\u001b[39m\u001b[38;5;28;01mFalse\u001b[39;00m, img_size\u001b[38;5;241m=\u001b[39m\u001b[38;5;241m224\u001b[39m):\n",
      "File \u001b[0;32m/rsrch1/ip/msalehjahromi/codes/dinov2-main/dinov2/models/vision_transformer.py:20\u001b[0m\n\u001b[1;32m     17\u001b[0m \u001b[38;5;28;01mimport\u001b[39;00m \u001b[38;5;21;01mtorch\u001b[39;00m\u001b[38;5;21;01m.\u001b[39;00m\u001b[38;5;21;01mutils\u001b[39;00m\u001b[38;5;21;01m.\u001b[39;00m\u001b[38;5;21;01mcheckpoint\u001b[39;00m\n\u001b[1;32m     18\u001b[0m \u001b[38;5;28;01mfrom\u001b[39;00m \u001b[38;5;21;01mtorch\u001b[39;00m\u001b[38;5;21;01m.\u001b[39;00m\u001b[38;5;21;01mnn\u001b[39;00m\u001b[38;5;21;01m.\u001b[39;00m\u001b[38;5;21;01minit\u001b[39;00m \u001b[38;5;28;01mimport\u001b[39;00m trunc_normal_\n\u001b[0;32m---> 20\u001b[0m \u001b[38;5;28;01mfrom\u001b[39;00m \u001b[38;5;21;01mdinov2\u001b[39;00m\u001b[38;5;21;01m.\u001b[39;00m\u001b[38;5;21;01mlayers\u001b[39;00m \u001b[38;5;28;01mimport\u001b[39;00m Mlp, PatchEmbed, SwiGLUFFNFused, MemEffAttention, NestedTensorBlock \u001b[38;5;28;01mas\u001b[39;00m Block\n\u001b[1;32m     23\u001b[0m logger \u001b[38;5;241m=\u001b[39m logging\u001b[38;5;241m.\u001b[39mgetLogger(\u001b[38;5;124m\"\u001b[39m\u001b[38;5;124mdinov2\u001b[39m\u001b[38;5;124m\"\u001b[39m)\n\u001b[1;32m     26\u001b[0m \u001b[38;5;28;01mdef\u001b[39;00m \u001b[38;5;21mnamed_apply\u001b[39m(fn: Callable, module: nn\u001b[38;5;241m.\u001b[39mModule, name\u001b[38;5;241m=\u001b[39m\u001b[38;5;124m\"\u001b[39m\u001b[38;5;124m\"\u001b[39m, depth_first\u001b[38;5;241m=\u001b[39m\u001b[38;5;28;01mTrue\u001b[39;00m, include_root\u001b[38;5;241m=\u001b[39m\u001b[38;5;28;01mFalse\u001b[39;00m) \u001b[38;5;241m-\u001b[39m\u001b[38;5;241m>\u001b[39m nn\u001b[38;5;241m.\u001b[39mModule:\n",
      "\u001b[0;31mModuleNotFoundError\u001b[0m: No module named 'dinov2'"
     ]
    }
   ],
   "source": [
    "from models import vits\n",
    "model = vits.vit_small(patch_size=16)\n",
    "model.load_state_dict(state_dict, strict=False)  # Use strict=False to handle any mismatched keys.\n"
   ]
  },
  {
   "cell_type": "code",
   "execution_count": null,
   "id": "ada3b649-3580-4ba2-bdc8-88c08d752dab",
   "metadata": {},
   "outputs": [],
   "source": []
  }
 ],
 "metadata": {
  "kernelspec": {
   "display_name": "msalehjahromi",
   "language": "python",
   "name": "msalehjahromi"
  },
  "language_info": {
   "codemirror_mode": {
    "name": "ipython",
    "version": 3
   },
   "file_extension": ".py",
   "mimetype": "text/x-python",
   "name": "python",
   "nbconvert_exporter": "python",
   "pygments_lexer": "ipython3",
   "version": "3.10.12"
  }
 },
 "nbformat": 4,
 "nbformat_minor": 5
}
